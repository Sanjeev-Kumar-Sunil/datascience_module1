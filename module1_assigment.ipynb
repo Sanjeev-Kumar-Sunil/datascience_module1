{
 "cells": [
  {
   "cell_type": "code",
   "execution_count": 1,
   "metadata": {},
   "outputs": [
    {
     "name": "stdout",
     "output_type": "stream",
     "text": [
      "Hello world! this is my first program\n"
     ]
    }
   ],
   "source": [
    "# Assignment 1.1\n",
    "# first program in notebook which prints hello world!\n",
    "# press ctrl+enter to run the program\n",
    "print(\"Hello world! this is my first program\")"
   ]
  },
  {
   "cell_type": "code",
   "execution_count": 2,
   "metadata": {},
   "outputs": [
    {
     "name": "stdout",
     "output_type": "stream",
     "text": [
      "2002,2009,2016,2023,2037,2044,2051,2058,2072,2079,2086,2093,2107,2114,2121,2128,2142,2149,2156,2163,2177,2184,2191,2198,2212,2219,2226,2233,2247,2254,2261,2268,2282,2289,2296,2303,2317,2324,2331,2338,2352,2359,2366,2373,2387,2394,2401,2408,2422,2429,2436,2443,2457,2464,2471,2478,2492,2499,2506,2513,2527,2534,2541,2548,2562,2569,2576,2583,2597,2604,2611,2618,2632,2639,2646,2653,2667,2674,2681,2688,2702,2709,2716,2723,2737,2744,2751,2758,2772,2779,2786,2793,2807,2814,2821,2828,2842,2849,2856,2863,2877,2884,2891,2898,2912,2919,2926,2933,2947,2954,2961,2968,2982,2989,2996,3003,3017,3024,3031,3038,3052,3059,3066,3073,3087,3094,3101,3108,3122,3129,3136,3143,3157,3164,3171,3178,3192,3199,"
     ]
    }
   ],
   "source": [
    "# Assignment 1.2\n",
    "\"\"\"\n",
    "A simple program in python which finds all numbers between 2000 and 3200 which is divisible by 7 but not multiple of 5.\n",
    "\"\"\"\n",
    "\n",
    "for num in range(2000,3201,1): # range(initial no,final no(excluded),step).for loop executed (3200-2000) times \n",
    "    if (num % 7)==0 and (num % 5) != 0: #checking wheter the number is divisible by 7 and 5\n",
    "        print(num, end=\",\") # printing number if divisible by 7 but not divisible by 5"
   ]
  },
  {
   "cell_type": "code",
   "execution_count": 3,
   "metadata": {},
   "outputs": [
    {
     "name": "stdout",
     "output_type": "stream",
     "text": [
      "Enter the first namesanjeev\n",
      "Enter the last namekumar\n",
      "kumar  sanjeev\n"
     ]
    }
   ],
   "source": [
    "# Assignment 1.3\n",
    "\"\"\"\n",
    "A simple program in python which takes first and last name and print in reverse order\n",
    "\"\"\"\n",
    "first_name= input(\"Enter the first name\") # input() takes first name as input from user and store in first_name\n",
    "last_name= input(\"Enter the last name\")  # input() takes first name as input from user and store in last_name\n",
    "print(last_name[:], \"\", first_name[:]) # sanjeev kumar---print as------> kumar sanjeev"
   ]
  },
  {
   "cell_type": "code",
   "execution_count": 4,
   "metadata": {},
   "outputs": [
    {
     "name": "stdout",
     "output_type": "stream",
     "text": [
      "volume of the sphere is 7234.560000\n"
     ]
    }
   ],
   "source": [
    "# Assignment 1.4\n",
    "\"\"\"\n",
    "A simple program in python to find the volume of the sphere\n",
    "\"\"\"\n",
    "r = 12 # assign r equal to 12 cm\n",
    "volume = (4/3 * 3.14 * r * r * r) # assigning volume = 4/3*pi*r*r*r\n",
    "print(\"volume of the sphere is %f\" % volume) #printing the volume of the sphere"
   ]
  },
  {
   "cell_type": "code",
   "execution_count": null,
   "metadata": {
    "collapsed": true
   },
   "outputs": [],
   "source": []
  },
  {
   "cell_type": "code",
   "execution_count": null,
   "metadata": {
    "collapsed": true
   },
   "outputs": [],
   "source": []
  },
  {
   "cell_type": "code",
   "execution_count": null,
   "metadata": {
    "collapsed": true
   },
   "outputs": [],
   "source": []
  },
  {
   "cell_type": "code",
   "execution_count": null,
   "metadata": {
    "collapsed": true
   },
   "outputs": [],
   "source": []
  },
  {
   "cell_type": "code",
   "execution_count": null,
   "metadata": {
    "collapsed": true
   },
   "outputs": [],
   "source": []
  },
  {
   "cell_type": "code",
   "execution_count": null,
   "metadata": {
    "collapsed": true
   },
   "outputs": [],
   "source": []
  }
 ],
 "metadata": {
  "kernelspec": {
   "display_name": "Python 3",
   "language": "python",
   "name": "python3"
  },
  "language_info": {
   "codemirror_mode": {
    "name": "ipython",
    "version": 3
   },
   "file_extension": ".py",
   "mimetype": "text/x-python",
   "name": "python",
   "nbconvert_exporter": "python",
   "pygments_lexer": "ipython3",
   "version": "3.6.2"
  }
 },
 "nbformat": 4,
 "nbformat_minor": 2
}
